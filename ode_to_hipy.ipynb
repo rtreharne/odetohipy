{
 "cells": [
  {
   "cell_type": "code",
   "execution_count": null,
   "metadata": {},
   "outputs": [],
   "source": [
    "from random import choice, randint"
   ]
  },
  {
   "cell_type": "code",
   "execution_count": 79,
   "metadata": {},
   "outputs": [
    {
     "name": "stdout",
     "output_type": "stream",
     "text": [
      "                  bright,  driving\n",
      "the create art explores\n",
      "Python\n",
      "skill\n",
      "     the research!\n",
      "    skill grows\n",
      "the running honey grows\n",
      "honey\n",
      "community\n",
      "     the HiPy!\n",
      "           Python Python driving Python\n",
      "the bright life wriggles\n",
      "sunlight\n",
      "wifi\n",
      "     the art!\n",
      "            Python Python driving Python\n",
      "the ecstatic honey smiles\n",
      "code\n",
      "confident\n",
      "     the science!\n",
      "         knowledge skill excite sunlight\n",
      "    knowledge skill excite sunlight\n",
      "    knowledge skill excite sunlight\n",
      "                   create,  young\n",
      "\n"
     ]
    }
   ],
   "source": [
    "\"\"\"\n",
    "This code has been adapted from the original blog article published by Elliot Hauser. https://blog.trinket.io/writing-poetry-in-python/\n",
    "\"\"\"\n",
    "\n",
    "adjectives = \"create striving excite learning radiant bright ecstatic young adaptable driving running joining\".split()\n",
    "verbs = \"explores inspires imagines returns wriggles grows stares drives smiles raps\".split()\n",
    "nouns = \"life science art confident data beauty research impact knowledge Python all Bees Beekeepers HiPy Liverpool code skill community September keyboard wifi honey sky sunlight\".split()\n",
    "\n",
    "def beat_poem():\n",
    "    with open(\"beat_poem.txt\", 'w') as f:\n",
    "        \n",
    "        poem = \"\"\n",
    "        \n",
    "        for x in range(randint(2,2)):\n",
    "            words1 = \" \".join([choice(adjectives) + \", \", choice(adjectives)])\n",
    "            words2 = \" \".join([choice(nouns), choice(verbs)])\n",
    "            words3 = \" \".join([choice(nouns), choice(nouns), choice(adjectives), choice(nouns)])\n",
    "\n",
    "\n",
    "            for i in range(randint(2,4)):\n",
    "                words = choice([words1, words2, words3])\n",
    "                line = \" \"*randint(0, 40 - len(words)) + words\n",
    "                poem += line + \"\\n\"\n",
    "\n",
    "                \n",
    "\n",
    "                if x % 7 ==0:\n",
    "                    words4 = \" \".join([\"the \" + choice(adjectives), choice(nouns), choice(verbs)])\n",
    "                    #poem += \" \".join(words4) + \"\\n\"\n",
    "                    poem += words4 + \"\\n\"\n",
    "                    \n",
    "                    \n",
    "                if x % 3 ==0:\n",
    "\n",
    "                    poem += choice(nouns) + \"\\n\"\n",
    "                    poem += \"\"*5 + choice(nouns) + \"\\n\"\n",
    "                    poem += \" \"*5 + \"the \" + choice(nouns) +\"!\" + \"\\n\"\n",
    "\n",
    "        f.write(poem)\n",
    "        \n",
    "        \n",
    "        return poem\n",
    "            \n",
    "poem = beat_poem()"
   ]
  },
  {
   "cell_type": "code",
   "execution_count": 80,
   "metadata": {},
   "outputs": [
    {
     "name": "stdout",
     "output_type": "stream",
     "text": [
      "                  bright,  driving\n",
      "the create art explores\n",
      "Python\n",
      "skill\n",
      "     the research!\n",
      "    skill grows\n",
      "the running honey grows\n",
      "honey\n",
      "community\n",
      "     the HiPy!\n",
      "           Python Python driving Python\n",
      "the bright life wriggles\n",
      "sunlight\n",
      "wifi\n",
      "     the art!\n",
      "            Python Python driving Python\n",
      "the ecstatic honey smiles\n",
      "code\n",
      "confident\n",
      "     the science!\n",
      "         knowledge skill excite sunlight\n",
      "    knowledge skill excite sunlight\n",
      "    knowledge skill excite sunlight\n",
      "                   create,  young\n",
      "\n"
     ]
    }
   ],
   "source": [
    "import pyttsx3;\n",
    "engine = pyttsx3.init()\n",
    "voices = engine.getProperty('voices')\n",
    "engine.setProperty('rate', 100)\n",
    "engine.setProperty('voice', voices[2].id)\n",
    "print(poem)\n",
    "engine.say(poem);\n",
    "engine.runAndWait() ;"
   ]
  },
  {
   "cell_type": "code",
   "execution_count": null,
   "metadata": {},
   "outputs": [],
   "source": []
  }
 ],
 "metadata": {
  "kernelspec": {
   "display_name": "Python 3",
   "language": "python",
   "name": "python3"
  },
  "language_info": {
   "codemirror_mode": {
    "name": "ipython",
    "version": 3
   },
   "file_extension": ".py",
   "mimetype": "text/x-python",
   "name": "python",
   "nbconvert_exporter": "python",
   "pygments_lexer": "ipython3",
   "version": "3.5.2"
  }
 },
 "nbformat": 4,
 "nbformat_minor": 2
}
